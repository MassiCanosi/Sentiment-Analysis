{
 "cells": [
  {
   "cell_type": "markdown",
   "metadata": {},
   "source": [
    "## Sentiment Analysis"
   ]
  },
  {
   "cell_type": "code",
   "execution_count": 1,
   "metadata": {},
   "outputs": [],
   "source": [
    "punctuation_chars = [\"'\", '\"', \",\", \".\", \"!\", \":\", \";\", '#', '@']"
   ]
  },
  {
   "cell_type": "code",
   "execution_count": 2,
   "metadata": {},
   "outputs": [],
   "source": [
    "def strip_punctuation(x):\n",
    "    for char in punctuation_chars:\n",
    "        if char in x:\n",
    "            x = x.replace(char,' ').strip()\n",
    "    return(x)"
   ]
  },
  {
   "cell_type": "markdown",
   "metadata": {},
   "source": [
    "Get words"
   ]
  },
  {
   "cell_type": "code",
   "execution_count": 3,
   "metadata": {},
   "outputs": [],
   "source": [
    "positive_words = []\n",
    "with open(\"positive_words.txt\") as pos_f:\n",
    "    for lin in pos_f:\n",
    "        if lin[0] != ';' and lin[0] != '\\n':\n",
    "            positive_words.append(lin.strip())\n",
    "\n",
    "\n",
    "negative_words = []\n",
    "with open(\"negative_words.txt\") as pos_f:\n",
    "    for lin in pos_f:\n",
    "        if lin[0] != ';' and lin[0] != '\\n':\n",
    "            negative_words.append(lin.strip())"
   ]
  },
  {
   "cell_type": "markdown",
   "metadata": {},
   "source": [
    "Import File"
   ]
  },
  {
   "cell_type": "code",
   "execution_count": 4,
   "metadata": {},
   "outputs": [],
   "source": [
    "twitter_data = open('project_twitter_data.csv', 'r').readlines()"
   ]
  },
  {
   "cell_type": "markdown",
   "metadata": {},
   "source": [
    "Method 1"
   ]
  },
  {
   "cell_type": "code",
   "execution_count": 5,
   "metadata": {},
   "outputs": [
    {
     "name": "stdout",
     "output_type": "stream",
     "text": [
      "3,0,0,0,0\n",
      "1,0,2,2,0\n",
      "1,2,1,0,1\n",
      "3,1,1,0,1\n",
      "6,0,2,0,2\n",
      "9,5,2,0,2\n",
      "19,0,2,0,2\n",
      "0,0,0,3,-3\n",
      "0,0,0,2,-2\n",
      "82,2,4,0,4\n",
      "0,0,0,1,-1\n",
      "0,0,1,0,1\n",
      "47,0,2,0,2\n",
      "2,1,1,0,1\n",
      "0,2,1,0,1\n",
      "0,0,2,1,1\n",
      "4,6,3,0,3\n",
      "19,0,3,1,2\n",
      "0,0,1,1,0\n"
     ]
    }
   ],
   "source": [
    "for line in twitter_data[1:]: #skip header\n",
    "    three_elements = line.split(',') #i'll get from here num. of retweets and num. of replies\n",
    "    cnt_p = 0\n",
    "    cnt_n = 0\n",
    "    for word in three_elements[0].split():\n",
    "        word = strip_punctuation(word).lower()\n",
    "        if word in positive_words:\n",
    "            cnt_p += 1\n",
    "        if word in negative_words:\n",
    "            cnt_n += 1\n",
    "    to_row = '{},{},{},{},{}'.format(three_elements[1], three_elements[2].replace('\\n',''), cnt_p, cnt_n, (cnt_p - cnt_n))\n",
    "    print(to_row)\n"
   ]
  },
  {
   "cell_type": "markdown",
   "metadata": {},
   "source": [
    "#### Method 2"
   ]
  },
  {
   "cell_type": "code",
   "execution_count": 25,
   "metadata": {},
   "outputs": [],
   "source": [
    "output = open('twitter_results.csv', 'w')"
   ]
  },
  {
   "cell_type": "code",
   "execution_count": 26,
   "metadata": {},
   "outputs": [
    {
     "data": {
      "text/plain": [
       "1"
      ]
     },
     "execution_count": 26,
     "metadata": {},
     "output_type": "execute_result"
    }
   ],
   "source": [
    "output.write('Number of Retweets, Number of Replies, Positive Score, Negative Score, Net Score')\n",
    "output.write('\\n')"
   ]
  },
  {
   "cell_type": "code",
   "execution_count": 21,
   "metadata": {},
   "outputs": [],
   "source": [
    "def get_pos(x):\n",
    "    x = strip_punctuation(x)\n",
    "    x = x.split()\n",
    "    cnt = 0\n",
    "    for word in x:\n",
    "        if word.lower() in positive_words:\n",
    "            cnt += 1\n",
    "    return(cnt)\n",
    "\n",
    "def get_neg(x):\n",
    "    x = strip_punctuation(x)\n",
    "    x = x.split()\n",
    "    cnt = 0\n",
    "    for word in x:\n",
    "        if word.lower() in negative_words:\n",
    "            cnt += 1\n",
    "    return(cnt)"
   ]
  },
  {
   "cell_type": "code",
   "execution_count": 22,
   "metadata": {},
   "outputs": [],
   "source": [
    "rtwt = []\n",
    "replies = []\n",
    "for line in twitter_data[1:]:\n",
    "    new_elements = line.split(',')\n",
    "    rtwt.append(new_elements[1])\n",
    "    replies.append(new_elements[2])"
   ]
  },
  {
   "cell_type": "code",
   "execution_count": 24,
   "metadata": {},
   "outputs": [
    {
     "name": "stdout",
     "output_type": "stream",
     "text": [
      "3,0,0,0,0\n",
      "1,0,2,2,0\n",
      "1,2,1,0,1\n",
      "3,1,1,0,1\n",
      "6,0,2,0,2\n",
      "9,5,2,0,2\n",
      "19,0,2,0,2\n",
      "0,0,0,3,-3\n",
      "0,0,0,2,-2\n",
      "82,2,4,0,4\n",
      "0,0,0,1,-1\n",
      "0,0,1,0,1\n",
      "47,0,2,0,2\n",
      "2,1,1,0,1\n",
      "0,2,1,0,1\n",
      "0,0,2,1,1\n",
      "4,6,3,0,3\n",
      "19,0,3,1,2\n",
      "0,0,1,1,0\n"
     ]
    }
   ],
   "source": [
    "i = 0 \n",
    "for line in twitter_data[1:]:\n",
    "    line.split()\n",
    "    to_row_2 = '{},{},{},{},{}'.format(rtwt[i], replies[i].replace('\\n',''), get_pos(line), get_neg(line), (get_pos(line) - get_neg(line)))\n",
    "    print(to_row_2)\n",
    "    output.write(to_row_2)\n",
    "    output.write('\\n')\n",
    "    i += 1"
   ]
  }
 ],
 "metadata": {
  "kernelspec": {
   "display_name": "Python 3",
   "language": "python",
   "name": "python3"
  },
  "language_info": {
   "codemirror_mode": {
    "name": "ipython",
    "version": 3
   },
   "file_extension": ".py",
   "mimetype": "text/x-python",
   "name": "python",
   "nbconvert_exporter": "python",
   "pygments_lexer": "ipython3",
   "version": "3.11.4"
  },
  "orig_nbformat": 4
 },
 "nbformat": 4,
 "nbformat_minor": 2
}
